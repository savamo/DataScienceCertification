{
    "cells": [
        {
            "cell_type": "markdown",
            "metadata": {
                "collapsed": true
            },
            "source": "# The Battle of Neighborhoods"
        },
        {
            "cell_type": "markdown",
            "metadata": {},
            "source": "## The problem to solve"
        },
        {
            "cell_type": "markdown",
            "metadata": {},
            "source": "A fameous chef of Italian Cuisine wants to open a 5 stars restaurant in Bristol.\n\nHe is not interested in a commercial area, not excluded, but mostly to a very selected and quite one.\nThe presence of the competitors of same cuisene should be low but, he is counting of support of other international cuisine for create highly gourmet event.\n\nThe focus is to find a suitable neighborhood for the purpose."
        },
        {
            "cell_type": "markdown",
            "metadata": {},
            "source": "## The background"
        },
        {
            "cell_type": "markdown",
            "metadata": {},
            "source": "Bristol is a big city in South West England and has 35 wards and about 100 neighborhoods. It's a very huge district but only the urban will be considered. "
        },
        {
            "cell_type": "markdown",
            "metadata": {},
            "source": "## Data "
        },
        {
            "cell_type": "markdown",
            "metadata": {},
            "source": "### Collecting it"
        },
        {
            "cell_type": "markdown",
            "metadata": {},
            "source": "In order to gathering the right data, different sources will be used which will require techniques of sgrabbing.\n\nThe data related of:\n\n- _Wards and Population_ will be exported in csv format from https://www.doogal.co.uk/AdministrativeAreas.php?district=E06000023\n- _Neighborhood_ will be sgrabbed from wikipedia pages and joing with wikimedia API will fetch the coordinates\n- _Crime_ data will downloaded from https://opendata.bristol.gov.uk/explore/dataset/crime-recorded-by-police-by-selected-offence-groups-in-bristol-by-ward/export/?disjunctive.ward_name\n- _House price_ will be get from https://www.bristolpost.co.uk/news/bristol-news/house-prices-bristol-2018-postcode-2279067\n\nThe data to collect for each area for restaurants will be provided by using the Foursquare APIs where for each neighborhood coordinates will be used the explore functionality within 1000 meter radius and limited to 100 venues."
        },
        {
            "cell_type": "markdown",
            "metadata": {},
            "source": "### How it will be used to solve the problem"
        },
        {
            "cell_type": "markdown",
            "metadata": {},
            "source": "The main purpose of data is to show plots with Folium package by using the coordinates which suggest the right area. Additionally techniques of clustering will be used for aggregate those neighborhoods with strong similarities."
        },
        {
            "cell_type": "code",
            "execution_count": null,
            "metadata": {},
            "outputs": [],
            "source": ""
        }
    ],
    "metadata": {
        "kernelspec": {
            "display_name": "Python 3.6",
            "language": "python",
            "name": "python3"
        },
        "language_info": {
            "codemirror_mode": {
                "name": "ipython",
                "version": 3
            },
            "file_extension": ".py",
            "mimetype": "text/x-python",
            "name": "python",
            "nbconvert_exporter": "python",
            "pygments_lexer": "ipython3",
            "version": "3.6.9"
        }
    },
    "nbformat": 4,
    "nbformat_minor": 1
}